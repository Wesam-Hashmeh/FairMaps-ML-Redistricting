{
 "cells": [
  {
   "cell_type": "code",
   "execution_count": 2,
   "id": "7d056c15-0d06-49e0-b89a-5ce23fe4e535",
   "metadata": {},
   "outputs": [
    {
     "name": "stdout",
     "output_type": "stream",
     "text": [
      "Error converting WKT: Expected bytes or string, got float\n",
      "Error converting WKT: Expected bytes or string, got float\n",
      "Error converting WKT: Expected bytes or string, got float\n",
      "Updated TSV file saved to updated_file.tsv\n"
     ]
    }
   ],
   "source": [
    "import pandas as pd\n",
    "from shapely import wkt\n",
    "import geopandas as gpd\n",
    "\n",
    "# Read the TSV file\n",
    "file_path = 'output_csv/il_2020WORK.tsv'  # Replace with your file path\n",
    "df = pd.read_csv(file_path, sep='\\t')\n",
    "\n",
    "# Function to convert WKT to shapely geometry\n",
    "def wkt_to_geometry(wkt_str):\n",
    "    try:\n",
    "        return wkt.loads(wkt_str)\n",
    "    except Exception as e:\n",
    "        print(f\"Error converting WKT: {e}\")\n",
    "        return None\n",
    "\n",
    "# Apply the function to the geometry column\n",
    "df['geometry'] = df['geometry'].apply(wkt_to_geometry)\n",
    "\n",
    "# Convert the DataFrame to a GeoDataFrame\n",
    "gdf = gpd.GeoDataFrame(df, geometry='geometry')\n",
    "\n",
    "# Save the updated GeoDataFrame to a new TSV file\n",
    "output_file_path = 'updated_file.tsv'  # Replace with your desired output file path\n",
    "gdf.to_csv(output_file_path, sep='\\t', index=False)\n",
    "\n",
    "print(f\"Updated TSV file saved to {output_file_path}\")"
   ]
  },
  {
   "cell_type": "code",
   "execution_count": null,
   "id": "22b53b51-399b-4e27-b35a-84aab39b9dd4",
   "metadata": {},
   "outputs": [],
   "source": []
  }
 ],
 "metadata": {
  "kernelspec": {
   "display_name": "Python 3 (ipykernel)",
   "language": "python",
   "name": "python3"
  },
  "language_info": {
   "codemirror_mode": {
    "name": "ipython",
    "version": 3
   },
   "file_extension": ".py",
   "mimetype": "text/x-python",
   "name": "python",
   "nbconvert_exporter": "python",
   "pygments_lexer": "ipython3",
   "version": "3.9.19"
  }
 },
 "nbformat": 4,
 "nbformat_minor": 5
}
