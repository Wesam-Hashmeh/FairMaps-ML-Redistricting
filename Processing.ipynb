{
 "cells": [
  {
   "cell_type": "code",
   "execution_count": 1,
   "id": "e42ddee9-0bcf-4774-ac21-b5f9ece5dc2a",
   "metadata": {},
   "outputs": [],
   "source": [
    "import os\n",
    "import geopandas as gpd\n",
    "import pandas as pd\n"
   ]
  },
  {
   "cell_type": "code",
   "execution_count": 18,
   "id": "ea0716fe-0c6d-470c-a360-355f791879d1",
   "metadata": {},
   "outputs": [],
   "source": [
    "import geopandas as gpd\n",
    "import pandas as pd\n",
    "from shapely.wkt import dumps\n",
    "\n",
    "\n",
    "# Load the shapefile\n",
    "shapefile_path = 'mi_2020.shp'\n",
    "gdf = gpd.read_file(shapefile_path)\n",
    "\n",
    "# Load the dbf file (assuming it's associated with the shapefile and has the same base name)\n",
    "dbf_path = 'mi_2020.dbf'\n",
    "dbf_data = gpd.read_file(dbf_path)\n",
    "\n",
    "merged_data = []\n",
    "\n",
    "# Iterate through each row\n",
    "for idx in range(len(gdf)):\n",
    "    shape_row = gdf.iloc[idx].to_dict()\n",
    "    dbf_row = dbf_data.iloc[idx].to_dict()\n",
    "    \n",
    "    # Convert geometry to WKT format using shapely.wkt.dumps\n",
    "    geometry_wkt = dumps(gdf.iloc[idx].geometry)\n",
    "    \n",
    "    # Merge the attribute dictionaries and add geometry in WKT format\n",
    "    merged_row = {**shape_row, **dbf_row, 'geometry': geometry_wkt}\n",
    "    merged_data.append(merged_row)\n",
    "\n",
    "# Convert the merged data to a DataFrame\n",
    "merged_df = pd.DataFrame(merged_data)\n",
    "\n",
    "\n",
    "# Save the merged DataFrame to a CSV file\n",
    "merged_df.to_csv('output_csv/mi_2020.tsv', index=False, sep='\\t')\n",
    "\n"
   ]
  },
  {
   "cell_type": "code",
   "execution_count": null,
   "id": "464b4f80-2d50-41de-b537-67323b81cd2a",
   "metadata": {},
   "outputs": [],
   "source": []
  },
  {
   "cell_type": "code",
   "execution_count": null,
   "id": "71a69757-dcf1-49bc-9bf5-b270498de4ce",
   "metadata": {},
   "outputs": [],
   "source": []
  }
 ],
 "metadata": {
  "kernelspec": {
   "display_name": "Python 3 (ipykernel)",
   "language": "python",
   "name": "python3"
  },
  "language_info": {
   "codemirror_mode": {
    "name": "ipython",
    "version": 3
   },
   "file_extension": ".py",
   "mimetype": "text/x-python",
   "name": "python",
   "nbconvert_exporter": "python",
   "pygments_lexer": "ipython3",
   "version": "3.9.19"
  }
 },
 "nbformat": 4,
 "nbformat_minor": 5
}
